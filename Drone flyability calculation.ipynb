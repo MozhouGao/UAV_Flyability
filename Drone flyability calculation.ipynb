{
 "cells": [
  {
   "cell_type": "code",
   "execution_count": null,
   "metadata": {},
   "outputs": [],
   "source": [
    "import netCDF4 as nc\n",
    "import numpy as np \n",
    "# import visulization packages \n",
    "import matplotlib.pyplot as plt \n",
    "from mpl_toolkits.basemap import Basemap\n",
    "# import packages for calculating daytime \n",
    "import ephem\n",
    "import datetime\n",
    "import math"
   ]
  },
  {
   "cell_type": "code",
   "execution_count": null,
   "metadata": {},
   "outputs": [],
   "source": [
    "# define weather SPECs for drone (here we used the SPECs of DJI Phantom4 as an example)\n",
    "W = 10\n",
    "T2 = 40\n",
    "T1 = 0 \n",
    "P = 0.005"
   ]
  },
  {
   "cell_type": "code",
   "execution_count": null,
   "metadata": {},
   "outputs": [],
   "source": [
    "# read netCDF4 data \n",
    "data = nc.Dataset(r'sampledata_06_2019.nc','r')"
   ]
  },
  {
   "cell_type": "code",
   "execution_count": null,
   "metadata": {},
   "outputs": [],
   "source": [
    "# read dimension variables \n",
    "time = data.variables['time'][:]\n",
    "lat = data.variables['latitude'][:]\n",
    "lon = data.variables['longitude'][:]\n",
    "# create a empty array to store binary filter results\n",
    "dfly = np.empty((len(time),len(lat),len(lon)),dtype = np.float)\n",
    "i = 0 \n",
    "while i<len(time):\n",
    "    # read weather variables \n",
    "    u = data.variables['u10'][i,:,:]\n",
    "    v = data.variables['v10'][i,:,:]\n",
    "    temp = data.variables['t2m'][i,:,:]\n",
    "    pts = data.variables['tp'][i,:,:]\n",
    "    # calculate wind speed \n",
    "    wind = (u ** 2 + v ** 2) ** 0.5\n",
    "    # convert meter to milimeter\n",
    "    pts = pts * 1000\n",
    "    # convert kelvin to celsius\n",
    "    temp = temp - 273.15\n",
    "    # Array Filter\n",
    "    # Wind\n",
    "    wa = wind <= W\n",
    "    wb = wind > W\n",
    "    wind[wa] = 1\n",
    "    wind[wb] = 0\n",
    "    \n",
    "    # Precipitation\n",
    "    pa = pts <= P\n",
    "    pb = pts > P\n",
    "    pts[pa] = 1\n",
    "    pts[pb] = 0\n",
    "\n",
    "    # Temperature\n",
    "    ta = (temp <= T2) & (temp >= T1)\n",
    "    tb = (temp > T2) | (temp < T1)\n",
    "    temp[ta] = 1\n",
    "    temp[tb] = 0\n",
    "    \n",
    "    # check all                     \n",
    "    Overall = wind + temp + pts  \n",
    "    oa = Overall == 3\n",
    "    ob = Overall != 3\n",
    "    Overall[oa] = 1\n",
    "    Overall[ob] = 0\n",
    "    \n",
    "    # store results \n",
    "    dfly[i, :, :] = Overall\n",
    "    \n",
    "    i += 1\n",
    "    \n",
    "data.close()"
   ]
  },
  {
   "cell_type": "code",
   "execution_count": null,
   "metadata": {},
   "outputs": [],
   "source": [
    "# calculate monthly flyability \n",
    "monthly_flyability = (np.sum(dfly,axis=0)/len(time))*100"
   ]
  },
  {
   "cell_type": "code",
   "execution_count": null,
   "metadata": {},
   "outputs": [],
   "source": [
    "# save the result as a netCDF4 file \n",
    "dronedata =nc.Dataset(r\"test1.nc\", 'w', format='NETCDF4_CLASSIC')\n",
    "lat = dronedata.createDimension('lat', len(lat))\n",
    "lon = dronedata.createDimension('lon', len(lon))\n",
    "fly = dronedata.createVariable('flyability', np.float, ('lat', 'lon'))\n",
    "fly[:] = monthly_flyability\n",
    "dronedata.close()"
   ]
  },
  {
   "cell_type": "code",
   "execution_count": null,
   "metadata": {},
   "outputs": [],
   "source": [
    "# flip latitude and longitude for visulization\n",
    "monthly_flyability = np.flip(monthly_flyability,0)"
   ]
  },
  {
   "cell_type": "code",
   "execution_count": null,
   "metadata": {},
   "outputs": [],
   "source": [
    "# visulzie the result\n",
    "fig,axe = plt.subplots(1,1,figsize=(10,10))\n",
    "fig.patch.set_facecolor('White')\n",
    "parallels = np.arange(49,62,2)\n",
    "meridians = np.arange(-120,-108,2)\n",
    "axe.set_title(\"DJI Phantom4 Flyability Map for Alberta, Canada - June 2019 (day and night)\")\n",
    "m = Basemap(ax=axe,\n",
    "             llcrnrlon=-120,   # lower longitude\n",
    "             llcrnrlat=49,  # lower latitude\n",
    "             urcrnrlon=-110,   # uppper longitude\n",
    "             urcrnrlat=60,   # uppper latitude\n",
    "           )\n",
    "m.drawstates()\n",
    "m.drawparallels(parallels,labels=[True,False,False,False],linewidth=0.1,fontsize=12)\n",
    "m.drawmeridians(meridians,labels=[True,False,False,True],linewidth=0.1,fontsize=12)\n",
    "im = m.imshow(monthly_flyability,cmap='coolwarm',vmin=0,vmax=100)\n",
    "\n",
    "cbar = fig.colorbar(im,orientation=\"vertical\")\n",
    "cbar.set_label('Monthly Drone Flyability (%)',fontsize=10)"
   ]
  },
  {
   "cell_type": "markdown",
   "metadata": {},
   "source": [
    "#### Add daylight checking  "
   ]
  },
  {
   "cell_type": "code",
   "execution_count": null,
   "metadata": {},
   "outputs": [],
   "source": [
    "def calsunlight(lat, lon, year, time,d_tf):\n",
    "    '''\n",
    "    calsunlight can be used to determine wether the inputted location and time is daytime ot not \n",
    "    The inputs include latitude-longitud matrix, year, and the time series.  \n",
    "    '''\n",
    "    # create an empty array to store the daylight binary marker(0 = nighttime, 1 = daytime) \n",
    "    daylight = np.empty((len(time),len(lat),len(lon)),dtype = np.float)\n",
    "    \n",
    "    # for each time step we have a lat&long 2D matrix  \n",
    "    for i in range(len(time)): \n",
    "        # calculate the timestep difference \n",
    "        dif = time[i]/24 - d_tf/24\n",
    "        # calculate the day of the year \n",
    "        dy = int(dif) + 1\n",
    "        # calculate the hour of the day\n",
    "        hd = time[i]%24\n",
    "\n",
    "        # calculate the date time object\n",
    "        dtobj = datetime.datetime(year, 1, 1) + datetime.timedelta(dy - 1)\n",
    "        # extract date object\n",
    "        dobj = dtobj.date()\n",
    "        # get the time object\n",
    "        tobj = datetime.time(hd)\n",
    "        # combine the datetime object\n",
    "        nobj = datetime.datetime.combine(dobj, tobj)\n",
    "        # For each cell of the matrix \n",
    "        for j in range(len(lat)):\n",
    "            lati = str(lat[j])\n",
    "            for k in range(len(lon)): \n",
    "                longi = str(lon[k])\n",
    "                # create the location of the sun \n",
    "                sun = ephem.Sun()\n",
    "                # create the observer object that relates to the current lat, long and time\n",
    "                observer = ephem.Observer()\n",
    "                observer.lat, observer.lon, observer.elevation = lati, longi, 0\n",
    "                observer.date = nobj\n",
    "                # calculate the solar angle \n",
    "                sun.compute(observer)\n",
    "                current_sun_alt = sun.alt\n",
    "                # convert the solar altitude to the degree\n",
    "                ang = current_sun_alt*180/math.pi\n",
    "                # we use the urban twilight as the boundary (-6 degree), if greater than -6 degree then it is a day time, \n",
    "                # otherwise it is a night time \n",
    "                if ang <= -6:\n",
    "                    daylight[i,j,k]= 0 \n",
    "                else: \n",
    "                    daylight[i,j,k]= 1\n",
    "        \n",
    "    print (\"daylight array is ready!\")\n",
    "    return daylight        \n",
    "        "
   ]
  },
  {
   "cell_type": "code",
   "execution_count": null,
   "metadata": {},
   "outputs": [],
   "source": [
    "# read ERA weather data\n",
    "data = nc.Dataset(r'sampledata_06_2019.nc','r')\n",
    "# extract time,latitude and longitude \n",
    "time = data.variables['time'][:]\n",
    "lat = data.variables['latitude'][:]\n",
    "lon = data.variables['longitude'][:]\n",
    "# get the gregorian timestep for 1 am of January 1, 2019 \n",
    "# June 1st is day 152 of the 2019\n",
    "# we can use 1st time step of time list to minus 151*24 \n",
    "t_fd = time[0] - 151*24 \n",
    "# calculate daylight array \n",
    "Daylight = calsunlight(lat, lon, 2019, time,t_fd)"
   ]
  },
  {
   "cell_type": "code",
   "execution_count": null,
   "metadata": {},
   "outputs": [],
   "source": [
    "# create a empty array to store binary filter results\n",
    "dfly2 = np.empty((len(time),len(lat),len(lon)),dtype = np.float)\n",
    "i = 0 \n",
    "while i<len(time):\n",
    "    # read weather variables \n",
    "    u = data.variables['u10'][i,:,:]\n",
    "    v = data.variables['v10'][i,:,:]\n",
    "    temp = data.variables['t2m'][i,:,:]\n",
    "    pts = data.variables['tp'][i,:,:]\n",
    "    day = Daylight[i,:,:]\n",
    "    # calculate wind speed \n",
    "    wind = (u ** 2 + v ** 2) ** 0.5\n",
    "    # convert meter to milimeter\n",
    "    pts = pts * 1000\n",
    "    # convert kelvin to celsius\n",
    "    temp = temp - 273.15\n",
    "    # Array Filter\n",
    "    # Wind\n",
    "    wa = wind <= W\n",
    "    wb = wind > W\n",
    "    wind[wa] = 1\n",
    "    wind[wb] = 0\n",
    "    \n",
    "    # Precipitation\n",
    "    pa = pts <= P\n",
    "    pb = pts > P\n",
    "    pts[pa] = 1\n",
    "    pts[pb] = 0\n",
    "\n",
    "    # Temperature\n",
    "    ta = (temp <= T2) & (temp >= T1)\n",
    "    tb = (temp > T2) | (temp < T1)\n",
    "    temp[ta] = 1\n",
    "    temp[tb] = 0\n",
    "    \n",
    "    # check all                     \n",
    "    Overall = wind + temp + pts + day  \n",
    "    oa = Overall == 4\n",
    "    ob = Overall != 4\n",
    "    Overall[oa] = 1\n",
    "    Overall[ob] = 0\n",
    "    \n",
    "    # store results \n",
    "    dfly2[i, :, :] = Overall\n",
    "    \n",
    "    i += 1"
   ]
  },
  {
   "cell_type": "code",
   "execution_count": null,
   "metadata": {},
   "outputs": [],
   "source": [
    "# calculate monthly flyability \n",
    "monthly_flyability2 = (np.sum(dfly2,axis=0)/len(time))*100"
   ]
  },
  {
   "cell_type": "code",
   "execution_count": null,
   "metadata": {},
   "outputs": [],
   "source": [
    "# save the result as a netCDF4 file \n",
    "dronedata =nc.Dataset(r\"test2.nc\", 'w', format='NETCDF4_CLASSIC')\n",
    "lat = dronedata.createDimension('lat', len(lat))\n",
    "lon = dronedata.createDimension('lon', len(lon))\n",
    "fly = dronedata.createVariable('flyability', np.float, ('lat', 'lon'))\n",
    "fly[:] = monthly_flyability2\n",
    "dronedata.close()"
   ]
  },
  {
   "cell_type": "code",
   "execution_count": null,
   "metadata": {},
   "outputs": [],
   "source": [
    "# flip latitude and longitude for visulization\n",
    "monthly_flyability2 = np.flip(monthly_flyability2,0)"
   ]
  },
  {
   "cell_type": "code",
   "execution_count": null,
   "metadata": {},
   "outputs": [],
   "source": [
    "# visulzie the result\n",
    "fig,axe = plt.subplots(1,1,figsize=(10,10))\n",
    "fig.patch.set_facecolor('White')\n",
    "parallels = np.arange(49,62,2)\n",
    "meridians = np.arange(-120,-108,2)\n",
    "axe.set_title(\"DJI Phantom4 Flyability for Alberta, Canada - June 2019 (Daylight Only)\")\n",
    "m = Basemap(ax=axe,\n",
    "             llcrnrlon=-120,   # lower longitude\n",
    "             llcrnrlat=49,  # lower latitude\n",
    "             urcrnrlon=-110,   # uppper longitude\n",
    "             urcrnrlat=60,   # uppper latitude\n",
    "           )\n",
    "m.drawstates()\n",
    "m.drawparallels(parallels,labels=[True,False,False,False],linewidth=0.1,fontsize=12)\n",
    "m.drawmeridians(meridians,labels=[True,False,False,True],linewidth=0.1,fontsize=12)\n",
    "im = m.imshow(monthly_flyability2,cmap='coolwarm',vmin=0,vmax=100)\n",
    "\n",
    "cbar = fig.colorbar(im,orientation=\"vertical\")\n",
    "cbar.set_label('Monthly Drone Flyability (%)',fontsize=12)"
   ]
  },
  {
   "cell_type": "markdown",
   "metadata": {},
   "source": [
    "#### Compare two maps"
   ]
  },
  {
   "cell_type": "code",
   "execution_count": null,
   "metadata": {},
   "outputs": [],
   "source": [
    "fig,axes = plt.subplots(1,2,figsize=(20,15))\n",
    "fig.patch.set_facecolor('White')\n",
    "title = [\"DJI Phantom4 flyability map for Alberta, Canada - June 2019 (day and night)\",\n",
    "         \"DJI Phantom4 flyability map for Alberta, Canada - June 2019 (daylight only)\"]\n",
    "Data = [monthly_flyability,monthly_flyability2]\n",
    "parallels = np.arange(49,62,2)\n",
    "meridians = np.arange(-120,-108,2)\n",
    "i = 0 \n",
    "for axe in axes.flat: \n",
    "    axe.set_title(title[i],fontsize=14)\n",
    "    m = Basemap(ax=axe,\n",
    "             llcrnrlon=-120,   # lower longitude\n",
    "             llcrnrlat=49,  # lower latitude\n",
    "             urcrnrlon=-110,   # uppper longitude\n",
    "             urcrnrlat=60,   # uppper latitude\n",
    "           )\n",
    "    m.drawstates()\n",
    "    m.drawparallels(parallels,labels=[True,False,False,False],linewidth=0.1,fontsize=14)\n",
    "    m.drawmeridians(meridians,labels=[True,False,False,True],linewidth=0.1,fontsize=14)\n",
    "    im = m.imshow(Data[i],cmap='coolwarm',vmin=0,vmax=100)\n",
    "    i = i + 1 \n",
    "      \n",
    "bar = np.array(Data)\n",
    "cb_ax = fig.add_axes([0.25, 0.18,0.5, 0.025])\n",
    "cbar = fig.colorbar(im,cax=cb_ax,orientation=\"horizontal\")\n",
    "cbar.set_label('Monthly flyability (%)',fontsize=14)\n",
    "# you can save the map\n",
    "#plt.savefig('example.png',dpi=300)"
   ]
  },
  {
   "cell_type": "code",
   "execution_count": null,
   "metadata": {},
   "outputs": [],
   "source": []
  }
 ],
 "metadata": {
  "kernelspec": {
   "display_name": "Python 3",
   "language": "python",
   "name": "python3"
  },
  "language_info": {
   "codemirror_mode": {
    "name": "ipython",
    "version": 3
   },
   "file_extension": ".py",
   "mimetype": "text/x-python",
   "name": "python",
   "nbconvert_exporter": "python",
   "pygments_lexer": "ipython3",
   "version": "3.7.10"
  }
 },
 "nbformat": 4,
 "nbformat_minor": 2
}
