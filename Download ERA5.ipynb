{
 "cells": [
  {
   "cell_type": "code",
   "execution_count": null,
   "metadata": {},
   "outputs": [],
   "source": [
    "# import cdsapi \n",
    "import cdsapi"
   ]
  },
  {
   "cell_type": "code",
   "execution_count": null,
   "metadata": {},
   "outputs": [],
   "source": [
    "#Download hourly total precipitation, 2 meters temperature, and 10 meters u&v wind components for June 2019 from ERA5 \n",
    "c = cdsapi.Client()\n",
    "ms =['06']\n",
    "for m in ms:\n",
    "    print (m)\n",
    "    c.retrieve(\n",
    "        'reanalysis-era5-single-levels',\n",
    "        {\n",
    "            'product_type':'reanalysis',\n",
    "            'variable':[\n",
    "                'total_precipitation','2m_temperature',\n",
    "                '10m_u_component_of_wind', '10m_v_component_of_wind',\n",
    "            ],\n",
    "            'year':'2019',\n",
    "            'month':[\n",
    "                m,\n",
    "            ],\n",
    "            'day':[\n",
    "                '01','02','03',\n",
    "                '04','05','06',\n",
    "                '07','08','09',\n",
    "                '10','11','12',\n",
    "                '13','14','15',\n",
    "                '16','17','18',\n",
    "                '19','20','21',\n",
    "                '22','23','24',\n",
    "                '25','26','27',\n",
    "                '28','29','30',\n",
    "                '31',\n",
    "            ],\n",
    "            'time':['00:00','01:00','02:00','03:00','04:00','05:00','06:00','07:00',\n",
    "                    '08:00','09:00','10:00','11:00','12:00','13:00','14:00','15:00',\n",
    "                   '16:00','17:00','18:00','19:00','20:00','21:00','22:00','23:00',\n",
    "                   ],\n",
    "\n",
    "            'area': [60,-120,49,-110,], # Alberta \n",
    "            'grid':[0.25,0.25], # spatial resolusion\n",
    "            'format':'netcdf',\n",
    "        },\n",
    "        r'sampledata_%s_2019.nc'%m)"
   ]
  }
 ],
 "metadata": {
  "kernelspec": {
   "display_name": "Python 3",
   "language": "python",
   "name": "python3"
  },
  "language_info": {
   "codemirror_mode": {
    "name": "ipython",
    "version": 3
   },
   "file_extension": ".py",
   "mimetype": "text/x-python",
   "name": "python",
   "nbconvert_exporter": "python",
   "pygments_lexer": "ipython3",
   "version": "3.7.3"
  }
 },
 "nbformat": 4,
 "nbformat_minor": 2
}
